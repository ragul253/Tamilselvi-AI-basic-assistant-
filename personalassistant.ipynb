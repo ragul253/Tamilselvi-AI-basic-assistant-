{
  "nbformat": 4,
  "nbformat_minor": 0,
  "metadata": {
    "colab": {
      "provenance": [],
      "toc_visible": true,
      "include_colab_link": true
    },
    "kernelspec": {
      "name": "python3",
      "display_name": "Python 3"
    },
    "language_info": {
      "name": "python"
    }
  },
  "cells": [
    {
      "cell_type": "markdown",
      "metadata": {
        "id": "view-in-github",
        "colab_type": "text"
      },
      "source": [
        "<a href=\"https://colab.research.google.com/github/ragul253/Tamilselvi-AI-basic-assistant-/blob/main/personalassistant.ipynb\" target=\"_parent\"><img src=\"https://colab.research.google.com/assets/colab-badge.svg\" alt=\"Open In Colab\"/></a>"
      ]
    },
    {
      "cell_type": "code",
      "source": [
        "pip install -q -U google-generativeai"
      ],
      "metadata": {
        "id": "vI_7-N_kQ4TL"
      },
      "execution_count": null,
      "outputs": []
    },
    {
      "cell_type": "code",
      "source": [
        "from google.colab import userdata"
      ],
      "metadata": {
        "id": "HTRPkY2LQb2W"
      },
      "execution_count": null,
      "outputs": []
    },
    {
      "cell_type": "code",
      "source": [
        "pip install gTTS"
      ],
      "metadata": {
        "id": "mzaILuszllVJ"
      },
      "execution_count": null,
      "outputs": []
    },
    {
      "cell_type": "code",
      "source": [
        "GOOGLE_API_KEY=userdata.get('GOOGLE_API_KEY')"
      ],
      "metadata": {
        "id": "nRnk9YI1QpBE"
      },
      "execution_count": null,
      "outputs": []
    },
    {
      "cell_type": "code",
      "source": [
        "def ask_question(name):\n",
        "  ques = 'Hey '   + name +   ' What do you want? '\n",
        "  ques = input(ques)\n",
        "  return ques"
      ],
      "metadata": {
        "id": "RThTEJQYG1Z-"
      },
      "execution_count": null,
      "outputs": []
    },
    {
      "cell_type": "code",
      "source": [
        "ask_question()"
      ],
      "metadata": {
        "id": "xzcOX9TYG4UM"
      },
      "execution_count": null,
      "outputs": []
    },
    {
      "cell_type": "code",
      "source": [
        "def classify_questions(ques):\n",
        "  google_search=False\n",
        "  device_lst= ['alarm','call','message','clock']\n",
        "  personal_lst=['who are you','who created you']\n",
        "  device = False\n",
        "  for i in device_lst:\n",
        "    if i in ques:\n",
        "      device = True\n",
        "    if device:\n",
        "      print(\"sorry currently cant handle this question because its related to device\")\n",
        "  personal= False\n",
        "  for i in personal_lst:\n",
        "    if i in ques.lower():\n",
        "      personal=True\n",
        "    if personal:\n",
        "      speak(\"Hey!! Hi im an assistant(Tamilselvi) created by Ragul Loganathan\")\n",
        "      print(\"Hey!! Hi im an assistant(Tamilselvi) created by Ragul Loganathan\")\n",
        "\n",
        "\n",
        "    if device:\n",
        "      google_search=False\n",
        "    elif personal:\n",
        "      google_search  = False\n",
        "    else:\n",
        "      google_search=True\n",
        "    return google_search\n",
        "\n"
      ],
      "metadata": {
        "id": "RQvKE62OIJo5"
      },
      "execution_count": null,
      "outputs": []
    },
    {
      "cell_type": "code",
      "source": [
        "classify_questions(\"who are you\")"
      ],
      "metadata": {
        "id": "W3fzoZN7M5DU"
      },
      "execution_count": null,
      "outputs": []
    },
    {
      "cell_type": "code",
      "source": [
        "import pathlib\n",
        "import textwrap\n",
        "from gtts import gTTS\n",
        "\n",
        "import google.generativeai as genai\n",
        "\n",
        "from IPython.display import display\n",
        "from IPython.display import Markdown\n",
        "from IPython.display import Audio, display\n",
        "\n",
        "\n",
        "def to_markdown(text):\n",
        "  text = text.replace('•', '  *')\n",
        "  return Markdown(textwrap.indent(text, '> ', predicate=lambda _: True))\n",
        "  # Or use `os.getenv('GOOGLE_API_KEY')` to fetch an environment variable.\n",
        "genai.configure(api_key=GOOGLE_API_KEY)\n",
        "model = genai.GenerativeModel('gemini-pro')"
      ],
      "metadata": {
        "id": "WOYadg5BRe9a"
      },
      "execution_count": null,
      "outputs": []
    },
    {
      "cell_type": "code",
      "source": [
        "response = model.generate_content(\"What is the meaning of love?\")"
      ],
      "metadata": {
        "id": "vH_VxBlIR5hZ"
      },
      "execution_count": null,
      "outputs": []
    },
    {
      "cell_type": "code",
      "source": [
        "response.text"
      ],
      "metadata": {
        "id": "ArDnBiQbSJku"
      },
      "execution_count": null,
      "outputs": []
    },
    {
      "cell_type": "code",
      "source": [
        "to_markdown(response.text)"
      ],
      "metadata": {
        "id": "0lihmhtVSRgC"
      },
      "execution_count": null,
      "outputs": []
    },
    {
      "cell_type": "code",
      "source": [
        "def ask_gemini(ques):\n",
        "  modified_prmpt= 'Hey give me an answer to this question ' + ques + '  in maxium of 40 words'\n",
        "  response=model.generate_content(modified_prmpt)\n",
        "  to_markdown(response.text)\n",
        "  return response.text"
      ],
      "metadata": {
        "id": "XIJfMM-STI_m"
      },
      "execution_count": null,
      "outputs": []
    },
    {
      "cell_type": "code",
      "source": [
        "def speak(answer):\n",
        "  tts = gTTS(answer)\n",
        "  tts.save('audio.mp3')\n",
        "  display(Audio('audio.mp3', autoplay=True))"
      ],
      "metadata": {
        "id": "1UMaou9DiXyx"
      },
      "execution_count": null,
      "outputs": []
    },
    {
      "cell_type": "code",
      "source": [
        "speak(\"hey how are u\")"
      ],
      "metadata": {
        "id": "mH-9go5QlOra"
      },
      "execution_count": null,
      "outputs": []
    },
    {
      "cell_type": "code",
      "source": [
        "have_any_other_questions ='y'\n",
        "name = ''\n",
        "while have_any_other_questions =='y':\n",
        "  if name =='':\n",
        "    name = input(\"What is your name? - \")\n",
        "  q= ask_question(name)\n",
        "\n",
        "  go_ahead= classify_questions(q)\n",
        "  answer=''\n",
        "\n",
        "  if go_ahead == True:\n",
        "    answer = ask_gemini(q)\n",
        "    speak(answer)\n",
        "    print(answer)\n",
        "\n",
        "  have_any_other_questions = input(\"Do u have any other questions?? - \")\n"
      ],
      "metadata": {
        "id": "wUnsqtrafpRJ"
      },
      "execution_count": null,
      "outputs": []
    },
    {
      "cell_type": "code",
      "source": [
        "\n"
      ],
      "metadata": {
        "id": "5rq7KCoCijdH"
      },
      "execution_count": null,
      "outputs": []
    }
  ]
}